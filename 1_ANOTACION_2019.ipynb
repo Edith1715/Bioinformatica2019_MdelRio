{
 "cells": [
  {
   "cell_type": "code",
   "execution_count": 1,
   "metadata": {},
   "outputs": [],
   "source": [
    "import os\n",
    "import requests\n",
    "import sys\n",
    "import urllib.request\n",
    "from urllib.request import urlopen\n",
    "import re\n",
    "from pandas import DataFrame\n",
    "import pandas as pd\n",
    "from pandas.compat import StringIO\n",
    "import warnings\n",
    "warnings.filterwarnings(\"ignore\")\n",
    "import numpy as np\n",
    "import matplotlib.pyplot as plt\n",
    "import json\n",
    "from PIL import Image\n",
    "# nuevo\n",
    "import ipywidgets as widgets\n",
    "from ipywidgets import interact, interactive, fixed, interact_manual,\\\n",
    "Button, HBox, VBox, IntSlider, Label, IntRangeSlider\n",
    "from ipywidgets import Checkbox, RadioButtons\n",
    "import random\n",
    "from matplotlib import cm"
   ]
  },
  {
   "cell_type": "code",
   "execution_count": null,
   "metadata": {},
   "outputs": [],
   "source": [
    "os.makedirs('datos',exist_ok=True)\n",
    "files = ['File_1.tsv','File_10.tsv','File_2.tsv','File_3.tsv','File_5.tsv','File_6.tsv',\n",
    "         'File_8.tsv','File_9.tsv']\n",
    "for i in files:\n",
    "    archivos = urllib.request.urlretrieve('https://raw.githubusercontent.com/eduardo1011/Bioinformatica2019/master/'+i, 'datos/'+i)\n",
    "os.makedirs('img',exist_ok=True)"
   ]
  },
  {
   "cell_type": "markdown",
   "metadata": {},
   "source": [
    "# Si no hay alguna ontología se descargará automáticamente"
   ]
  },
  {
   "cell_type": "code",
   "execution_count": null,
   "metadata": {},
   "outputs": [],
   "source": [
    "modulo = urllib.request.urlretrieve('https://raw.githubusercontent.com/eduardo1011/Bioinformatica2019/master/funciones.py', 'funciones.py')\n",
    "import funciones\n",
    "from funciones import *"
   ]
  },
  {
   "cell_type": "code",
   "execution_count": null,
   "metadata": {},
   "outputs": [],
   "source": []
  },
  {
   "cell_type": "markdown",
   "metadata": {},
   "source": [
    "# Qué información va a ser anotada"
   ]
  },
  {
   "cell_type": "markdown",
   "metadata": {},
   "source": [
    "# 1. Preparar la lista de identificadores UniProtKB\n",
    "<img src=\"https://raw.githubusercontent.com/eduardo1011/Bioinformatica2019/master/Transcriptome_Arabidopsis.PNG\" width = 80%> <br>\n",
    "### https://www.g3journal.org/content/ggg/8/9/3093.full.pdf\n",
    "### Condiciones, genes sobre-regulados"
   ]
  },
  {
   "cell_type": "code",
   "execution_count": null,
   "metadata": {},
   "outputs": [],
   "source": [
    "file"
   ]
  },
  {
   "cell_type": "code",
   "execution_count": null,
   "metadata": {
    "scrolled": true
   },
   "outputs": [],
   "source": [
    "lista = frame()[0]\n",
    "lista"
   ]
  },
  {
   "cell_type": "code",
   "execution_count": null,
   "metadata": {},
   "outputs": [],
   "source": []
  },
  {
   "cell_type": "markdown",
   "metadata": {},
   "source": [
    "### Extraer información desde UniProtKB, usando identificadores específicos\n",
    "* <font color=green>Argumentos para la función</font> <font color=red>**get_UniProtKB_info0()**</font>\n",
    "* ids = <**Una lista de identificadores UniProtKB**> # con esta función se actualiza la lista de IDs de UniProt\n",
    "* <font color=green>Argumentos para la función</font> <font color=red>**get_UniProtKB_info1()**</font>\n",
    "* ids = <**Una lista de identificadores UniProtKB**>\n",
    "* <font color=green>Argumentos para la función</font> <font color=red>**get_UniProtKB_info2()**</font>\n",
    "* id_organism = <**Identificador taxonómico**>"
   ]
  },
  {
   "cell_type": "code",
   "execution_count": null,
   "metadata": {},
   "outputs": [],
   "source": [
    "# con get_UniProtKB_info0(ids = lista).Entry se obtiene una lista actualizada de identificadores de UniProt, y es la que \n",
    "#                                            se mapea en la base de datos de UniProtKB\n",
    "actualizacion = get_UniProtKB_info0(ids = lista)\n",
    "print('\\nIdentificadores actualizados\\n\\nOld', '    New\\n')\n",
    "for index, row in actualizacion.iterrows():\n",
    "    if row.ACC != row.Entry:\n",
    "        print(row.ACC, row.Entry)\n",
    "    else:\n",
    "        continue"
   ]
  },
  {
   "cell_type": "code",
   "execution_count": null,
   "metadata": {
    "scrolled": true
   },
   "outputs": [],
   "source": [
    "# opción uno, descarga de información funcional desde UniProtKB de identificadores específicos\n",
    "\n",
    "uniprotkb = get_UniProtKB_info1(ids = get_UniProtKB_info0(ids = lista).Entry)\n",
    "\n",
    "###\n",
    "# segunda opción si la anterior no funciona, descargar toda la anotación del proteoma y mapear los identificadores\n",
    "# ejemplo de descarga Arabidopsis thaliana\n",
    "\n",
    "#id_organism = 3702 \n",
    "#descarga = get_UniProtKB_info2(id_organism = 3702)\n",
    "#descarga.head()\n",
    "\n",
    "#uniprotkb = DataFrame(lista, columns = ['Entry']).merge(descarga, on = 'Entry', how = 'left')\n",
    "#uniprotkb\n",
    "# exportar este data frame, será usado por las funciones interactivas\n",
    "uniprotkb.to_csv('uniprotkb.tsv', sep = '\\t', index = None)\n",
    "uniprotkb.head()"
   ]
  },
  {
   "cell_type": "markdown",
   "metadata": {},
   "source": [
    "### Anotación funcional depositada en UniProtKB (GO Terms)"
   ]
  },
  {
   "cell_type": "code",
   "execution_count": null,
   "metadata": {
    "scrolled": true
   },
   "outputs": [],
   "source": [
    "anotation = []\n",
    "for index, row in uniprotkb.iterrows():\n",
    "    for j in row.GO.split('; '):\n",
    "        if re.search('GO:\\d+', j):\n",
    "            anotation.append([row.Entry, re.search('GO:\\d+', j).group()])\n",
    "        else:\n",
    "            anotation.append([row.Entry, j])\n",
    "anotation = DataFrame(anotation, columns = ['Entry', 'GO'])\n",
    "anotation = anotation[anotation['GO'].str.contains('NA') == False]\n",
    "anotation"
   ]
  },
  {
   "cell_type": "markdown",
   "metadata": {},
   "source": [
    "# 2. Ontología"
   ]
  },
  {
   "cell_type": "markdown",
   "metadata": {},
   "source": [
    "### Crear un data frame a partir del archivo go-basic.obo para hacer mapeos"
   ]
  },
  {
   "cell_type": "code",
   "execution_count": null,
   "metadata": {
    "scrolled": true
   },
   "outputs": [],
   "source": [
    "ontologia = ontology()\n",
    "ontologia"
   ]
  },
  {
   "cell_type": "code",
   "execution_count": null,
   "metadata": {},
   "outputs": [],
   "source": []
  },
  {
   "cell_type": "code",
   "execution_count": null,
   "metadata": {
    "scrolled": false
   },
   "outputs": [],
   "source": [
    "import matplotlib\n",
    "import matplotlib.pyplot as plt\n",
    "import numpy as np\n",
    "\n",
    "print('2006 https://academic.oup.com/nar/article/34/suppl_1/D322/1132320')\n",
    "print('2007 https://www.ncbi.nlm.nih.gov/pmc/articles/PMC2238979/')\n",
    "print('2009 https://www.ncbi.nlm.nih.gov/pmc/articles/PMC2808930/')\n",
    "print('2011 https://www.ncbi.nlm.nih.gov/pmc/articles/PMC3245151/')\n",
    "\n",
    "print('2012 https://www.ncbi.nlm.nih.gov/pmc/articles/PMC3531070/')\n",
    "print('2014 https://www.ncbi.nlm.nih.gov/pmc/articles/PMC4383973/')\n",
    "print('2016 https://www.ncbi.nlm.nih.gov/pmc/articles/PMC5210579/')\n",
    "labels = ['Sept.\\n2006', 'Sept.\\n2007', 'Sept.\\n2009', 'Sept.\\n2011',\n",
    "          'Sept.\\n2012', 'Sept.\\n2014', 'Oct.\\n2016', 'Sept.\\n2018', 'Sept.\\n2019']\n",
    "p = [9805,13916,17069,21394,23907, 27284, 29146, 30782, ontologia[ontologia.Aspect == 'P'].count()[0]]\n",
    "f = [7076,7878,8637,9062,9459, 10733, 10417, 12110, ontologia[ontologia.Aspect == 'F'].count()[0]]\n",
    "c = [1574,2007,2432,2896,3050, 3758, 4022, 4386, ontologia[ontologia.Aspect == 'C'].count()[0]]\n",
    "x = np.arange(len(labels))  # the label locations\n",
    "width = 0.3  # the width of the bars\n",
    "\n",
    "fig, ax = plt.subplots(figsize=(8, 4))\n",
    "rects1 = ax.bar(x - width, p, width, label='P')\n",
    "rects2 = ax.bar(x, f, width, label='F')\n",
    "rects3 = ax.bar(x + width, c, width, label='C')\n",
    "\n",
    "ax.set_ylabel('Terms', color='white')\n",
    "#ax.set_title('Annotation update\\n')\n",
    "ax.set_xticks(x)\n",
    "ax.tick_params(axis='x', colors='white')\n",
    "ax.tick_params(axis='y', colors='white')\n",
    "\n",
    "ax.set_yticklabels([0, 5000, 10000, 15000, 20000, 25000, 30000], color='white')\n",
    "ax.set_xticklabels(labels, color='white')\n",
    "\n",
    "ax.legend(prop=dict(weight='bold'), loc=\"upper left\")\n",
    "\n",
    "def autolabel(rects):\n",
    "    \"\"\"Attach a text label above each bar in *rects*, displaying its height.\"\"\"\n",
    "    for rect in rects:\n",
    "        height = rect.get_height()\n",
    "        ax.annotate('{}'.format(height),color='white', weight=\"bold\",\n",
    "                    xy=(rect.get_x() + rect.get_width() / 2, height),\n",
    "                    xytext=(0, 3),  # 3 points vertical offset\n",
    "                    textcoords=\"offset points\",\n",
    "                    ha='center', va='bottom')\n",
    "\n",
    "autolabel(rects1)\n",
    "autolabel(rects2)\n",
    "autolabel(rects3)\n",
    "\n",
    "plt.gca().spines['top'].set_visible(False)\n",
    "plt.gca().spines['right'].set_visible(False)\n",
    "plt.gca().spines['left'].set_color('white')\n",
    "plt.gca().spines['bottom'].set_color('white')\n",
    "fig.tight_layout()\n",
    "plt.gca().set_facecolor('black')\n",
    "ax.figure.set_facecolor('black')\n",
    "#plt.savefig('Annotation_update.png', dpi = 900, bbox_inches='tight', transparent=True)\n",
    "plt.show()"
   ]
  },
  {
   "cell_type": "code",
   "execution_count": null,
   "metadata": {},
   "outputs": [],
   "source": []
  },
  {
   "cell_type": "markdown",
   "metadata": {},
   "source": [
    "# 3. Seleccionar un GO Slim"
   ]
  },
  {
   "cell_type": "markdown",
   "metadata": {},
   "source": [
    "### GO Slim disponibles"
   ]
  },
  {
   "cell_type": "code",
   "execution_count": null,
   "metadata": {},
   "outputs": [],
   "source": [
    "GOSLIM"
   ]
  },
  {
   "cell_type": "markdown",
   "metadata": {},
   "source": [
    "### Definimos un GO Slim"
   ]
  },
  {
   "cell_type": "code",
   "execution_count": null,
   "metadata": {
    "scrolled": true
   },
   "outputs": [],
   "source": [
    "slim = frame_goslim()\n",
    "slim"
   ]
  },
  {
   "cell_type": "code",
   "execution_count": null,
   "metadata": {},
   "outputs": [],
   "source": []
  },
  {
   "cell_type": "markdown",
   "metadata": {},
   "source": [
    "### Explorar términos"
   ]
  },
  {
   "cell_type": "code",
   "execution_count": null,
   "metadata": {},
   "outputs": [],
   "source": [
    "ter = interactive(explorar_terms)\n",
    "ter"
   ]
  },
  {
   "cell_type": "code",
   "execution_count": null,
   "metadata": {},
   "outputs": [],
   "source": []
  },
  {
   "cell_type": "markdown",
   "metadata": {},
   "source": [
    "### Data frame \"GO is_a\" a partir del archivo go-basic.obo para buscar super-términos"
   ]
  },
  {
   "cell_type": "code",
   "execution_count": null,
   "metadata": {
    "scrolled": true
   },
   "outputs": [],
   "source": [
    "is_a = IS_A()\n",
    "is_a"
   ]
  },
  {
   "cell_type": "code",
   "execution_count": null,
   "metadata": {},
   "outputs": [],
   "source": []
  },
  {
   "cell_type": "markdown",
   "metadata": {},
   "source": [
    "### Cómo se visualizan los super-términos de un GO"
   ]
  },
  {
   "cell_type": "code",
   "execution_count": null,
   "metadata": {},
   "outputs": [],
   "source": [
    "# Ejemplo\n",
    "# super_terms(term)   =>   Return a set of all super terms of term up to the most general one.\n",
    "@interact\n",
    "def superterminos(Term = random.choices(population=list(anotation.GO.drop_duplicates()), k=50)):\n",
    "    #print('\\nSuper-términos de:', Term)\n",
    "    get_terms = list(super_terms(Term))\n",
    "    super_t = DataFrame(get_terms, columns = ['GO'])\n",
    "    def highlight_go(g):\n",
    "        go = g == Term\n",
    "        return ['background-color: orange' if v else '' for v in go]\n",
    "    return super_t.merge(ontologia, on = 'GO', how = 'left').dropna().style.apply(highlight_go)"
   ]
  },
  {
   "cell_type": "markdown",
   "metadata": {},
   "source": [
    "### Visualizar GO términos padre\n",
    "##### <font color=red>'Devuelve tres salidas, la primera</font> <font color=green>[0]</font> <font color=red>contiene una descripción de nodos (GO terms) en formato JSON (JavaScript object notation) compatible con Amigo AmiGO 2 version: 2.5.12 http://amigo.geneontology.org/visualize?mode=client_amigo, la segunda</font> <font color=green>[1]</font> <font color=red>contiene una URL con extensión .png y la tercera</font> <font color=green>[2]</font> <font color=red>una URL con extensión .svg '</font>\n",
    "* <font color=green>Argumentos para la función</font> <font color=red>**GO_DAG()**</font>\n",
    "* go_terms = <**Una lista de GO terms**>\n",
    "* term = <**Algún GO term**>"
   ]
  },
  {
   "cell_type": "code",
   "execution_count": null,
   "metadata": {},
   "outputs": [],
   "source": [
    "Image.open(requests.get(GO_DAG(go_terms = list(super_terms(ter.result)), term = ter.result)[1], stream=True).raw)"
   ]
  },
  {
   "cell_type": "code",
   "execution_count": null,
   "metadata": {
    "scrolled": true
   },
   "outputs": [],
   "source": [
    "# vista en AmiGO 2\n",
    "print(GO_DAG(list(super_terms(ter.result)), ter.result)[0])"
   ]
  },
  {
   "cell_type": "markdown",
   "metadata": {},
   "source": [
    "## Visualizar los términos en QuickGO: GO Annotatios<br>\n",
    "<img src=\"https://www.ebi.ac.uk/training/online/sites/ebi.ac.uk.training.online/files/resize/u13218/Screen%20Shot%202017-11-21%20at%2010.14.25-750x468.png\" width = 50%> <br>\n",
    "The QuickGO REST API provides access to key biological data from QuickGO and GOA.<br>\n",
    "https://www.ebi.ac.uk/QuickGO/api/index.html"
   ]
  },
  {
   "cell_type": "code",
   "execution_count": null,
   "metadata": {},
   "outputs": [],
   "source": [
    "lista_sup = re.sub(':', '%3A', '%2C'.join(list(super_terms(ter.result))))\n",
    "quickgo_url = 'https://www.ebi.ac.uk/QuickGO/services/ontology/go/terms/%7Bids%7D/chart?ids='\n",
    "Image.open(requests.get(quickgo_url+lista_sup, stream=True).raw)"
   ]
  },
  {
   "cell_type": "code",
   "execution_count": null,
   "metadata": {
    "scrolled": true
   },
   "outputs": [],
   "source": []
  },
  {
   "cell_type": "markdown",
   "metadata": {},
   "source": [
    "# 4. GO Slim"
   ]
  },
  {
   "cell_type": "code",
   "execution_count": null,
   "metadata": {},
   "outputs": [],
   "source": [
    "dfsup = mapping_super_terms(list_gos = anotation.GO.drop_duplicates())"
   ]
  },
  {
   "cell_type": "code",
   "execution_count": null,
   "metadata": {
    "scrolled": true
   },
   "outputs": [],
   "source": [
    "dfsup.head()"
   ]
  },
  {
   "cell_type": "code",
   "execution_count": null,
   "metadata": {},
   "outputs": [],
   "source": []
  },
  {
   "cell_type": "code",
   "execution_count": null,
   "metadata": {
    "scrolled": true
   },
   "outputs": [],
   "source": [
    "asp = {'P':'Biological Process', 'F':'Molecular Function', 'C':'Cellular Component'}\n",
    "df2 = anotation.merge(dfsup, on = 'GO', how = 'inner')\n",
    "df3 = df2.merge(ontologia, on = 'GO', how = 'left')\n",
    "df3.columns = ['Entry', 'Original GO', 'is_a','Original Term', 'Original Aspect']\n",
    "df4 = df3.merge(is_a[['is_a','Term','Aspect']], on = 'is_a', how = 'left').drop_duplicates().reset_index(drop = True).dropna()\n",
    "df4 = df4.rename(columns={'is_a':'GO'}) # is_a se convierte en GO, para mapearlos con el GO Slim seleccionado\n",
    "slim['ASPECT'] = [asp[i] for i in slim.Aspect]\n",
    "GO_Slim = slim.merge(df4, on = ['GO', 'Term', 'Aspect'],\n",
    "                     how = 'left').drop_duplicates().reset_index(drop = True).dropna().reset_index(drop = True)\n",
    "etiquetas = []    \n",
    "for i in GO_Slim.Term:\n",
    "    if len(i.split(' ')) <= 3:\n",
    "        etiquetas.append(re.sub(' ', '\\n', i))\n",
    "    else:\n",
    "        etiquetas.append(''.join(i.split(' ')[0])+'\\n'+''.join(i.split(' ')[1])+''.join(i.split(' ')[2])+'...') # +'\\n'+i.split(' ')[2]\n",
    "GO_Slim['Short_Term'] = etiquetas \n",
    "print('\\n\\nColumnas del GO Slim: [GO, Term, Aspect, Short_Term]')\n",
    "# exportar este data frame, será usado por las funciones interactivas\n",
    "GO_Slim.to_csv('GO_Slim.tsv', sep = '\\t', index = None)\n",
    "GO_Slim"
   ]
  },
  {
   "cell_type": "code",
   "execution_count": null,
   "metadata": {},
   "outputs": [],
   "source": []
  },
  {
   "cell_type": "markdown",
   "metadata": {},
   "source": [
    "# 5. Visualizaciones gráficas <br>"
   ]
  },
  {
   "cell_type": "code",
   "execution_count": null,
   "metadata": {},
   "outputs": [],
   "source": [
    "categorias = DataFrame(GO_Slim[['ASPECT', 'Original Aspect', 'Aspect', 'Entry']].drop_duplicates().groupby(['ASPECT', 'Aspect', 'Original Aspect']).Entry.count()).reset_index()\n",
    "categorias"
   ]
  },
  {
   "cell_type": "markdown",
   "metadata": {},
   "source": [
    "### creación de un diccionario"
   ]
  },
  {
   "cell_type": "code",
   "execution_count": null,
   "metadata": {},
   "outputs": [],
   "source": [
    "diccionario = {'numeros':[1, 2, 3, 4, 5, 6, 7, 8, 9, 10],\n",
    "            'letras':['a','b','c','d','e','f','g','h','i','j']}\n",
    "diccionario"
   ]
  },
  {
   "cell_type": "markdown",
   "metadata": {},
   "source": [
    "### extraer las claves/llaves del diccionario"
   ]
  },
  {
   "cell_type": "code",
   "execution_count": null,
   "metadata": {},
   "outputs": [],
   "source": [
    "diccionario.keys()"
   ]
  },
  {
   "cell_type": "markdown",
   "metadata": {},
   "source": [
    "### extraer los valores del diccionario"
   ]
  },
  {
   "cell_type": "code",
   "execution_count": null,
   "metadata": {},
   "outputs": [],
   "source": [
    "diccionario.values()"
   ]
  },
  {
   "cell_type": "code",
   "execution_count": null,
   "metadata": {},
   "outputs": [],
   "source": []
  },
  {
   "cell_type": "code",
   "execution_count": null,
   "metadata": {},
   "outputs": [],
   "source": []
  },
  {
   "cell_type": "markdown",
   "metadata": {},
   "source": [
    "## Diagrama de Venn"
   ]
  },
  {
   "cell_type": "code",
   "execution_count": null,
   "metadata": {},
   "outputs": [],
   "source": [
    "intersecciones = {}\n",
    "for i in ['P', 'F', 'C']:\n",
    "    intersecciones[i] = set(GO_Slim[GO_Slim.Aspect == i].Entry)\n",
    "    "
   ]
  },
  {
   "cell_type": "code",
   "execution_count": null,
   "metadata": {},
   "outputs": [],
   "source": [
    "plt.subplots(figsize=(6,6))\n",
    "venn3_plot(set1 = intersecciones['P'], set2 = intersecciones['F'], set3 = intersecciones['C'])"
   ]
  },
  {
   "cell_type": "markdown",
   "metadata": {},
   "source": [
    "# ----------------------------------------------------------------------------------------------------------"
   ]
  },
  {
   "cell_type": "markdown",
   "metadata": {},
   "source": [
    "## Biological Process"
   ]
  },
  {
   "cell_type": "code",
   "execution_count": null,
   "metadata": {},
   "outputs": [],
   "source": [
    "columnas = ['GO', 'Entry', 'Aspect', 'Term', 'ASPECT', 'Short_Term']"
   ]
  },
  {
   "cell_type": "code",
   "execution_count": null,
   "metadata": {
    "scrolled": true
   },
   "outputs": [],
   "source": [
    "pro1 = GO_Slim[columnas].groupby(['Aspect']).get_group('P').drop_duplicates()\n",
    "proceso = DataFrame(pro1.drop_duplicates().groupby(['GO','Term', 'Short_Term']).Entry.count()).reset_index()\n",
    "pro = proceso.sort_values(by ='Entry',ascending=False).reset_index(drop=True)\n",
    "pro.head()"
   ]
  },
  {
   "cell_type": "markdown",
   "metadata": {},
   "source": [
    "## graficos individuales"
   ]
  },
  {
   "cell_type": "code",
   "execution_count": null,
   "metadata": {},
   "outputs": [],
   "source": [
    "plt.subplots(figsize=(6,6))\n",
    "barras(df = pro)"
   ]
  },
  {
   "cell_type": "markdown",
   "metadata": {},
   "source": [
    "### <font color=red>Ejemplo = Control de más parámetros</font>"
   ]
  },
  {
   "cell_type": "code",
   "execution_count": null,
   "metadata": {},
   "outputs": [],
   "source": [
    "plt.subplots(figsize=(6,6))\n",
    "barras(df = pro, column = 1, dim = 111, title = 'Biological Process', row_num = 15, color = 'C1',\n",
    "           size_x = 15, size_y = 15, xlabel = 20, size_title = 25, size_bartxt = 12)"
   ]
  },
  {
   "cell_type": "code",
   "execution_count": null,
   "metadata": {},
   "outputs": [],
   "source": []
  },
  {
   "cell_type": "code",
   "execution_count": null,
   "metadata": {},
   "outputs": [],
   "source": [
    "# graficos individuales\n",
    "plt.subplots(figsize=(6,6))\n",
    "pastel(df = pro)"
   ]
  },
  {
   "cell_type": "markdown",
   "metadata": {},
   "source": [
    "### <font color=red>Ejemplo = Control de más parámetros</font>"
   ]
  },
  {
   "cell_type": "code",
   "execution_count": null,
   "metadata": {},
   "outputs": [],
   "source": [
    "plt.subplots(figsize=(6,6))\n",
    "pastel(df = pro, column = 1, dim = 111, title = 'Biological Process', row_num = 7, angle = 0,\n",
    "           size_text = 15, size_title = 20)"
   ]
  },
  {
   "cell_type": "code",
   "execution_count": null,
   "metadata": {},
   "outputs": [],
   "source": []
  },
  {
   "cell_type": "markdown",
   "metadata": {},
   "source": [
    "## Visualizar los términos en AmiGO 2: Visualize\n",
    "##### <font color=red>'Devuelve tres salidas, la primera</font> <font color=green>[0]</font> <font color=red>contiene una descripción de nodos (GO terms) en formato JSON (JavaScript object notation) compatible con Amigo AmiGO 2 version: 2.5.12 http://amigo.geneontology.org/visualize?mode=client_amigo, la segunda</font> <font color=green>[1]</font> <font color=red>contiene una URL con extensión .png y la tercera</font> <font color=green>[2]</font> <font color=red>una URL con extensión .svg '</font>\n",
    "* <font color=green>Argumentos para la función</font> <font color=red>**GO_DAG()**</font>\n",
    "* go_terms = <**Una lista de GO terms**>\n",
    "* term = <**Algún GO term**>"
   ]
  },
  {
   "cell_type": "code",
   "execution_count": null,
   "metadata": {},
   "outputs": [],
   "source": [
    "Image.open(requests.get(GO_DAG(go_terms = list(pro.GO.head(20)),\n",
    "                               term = list(pro.GO.head(20))[10])[1], stream=True).raw)"
   ]
  },
  {
   "cell_type": "code",
   "execution_count": null,
   "metadata": {},
   "outputs": [],
   "source": [
    "# copiar la siguiente cadena en el sitio del enlace\n",
    "#print((GO_DAG(list(pro.GO.head(20)), list(pro.GO.head(20))[10]))[0])"
   ]
  },
  {
   "cell_type": "markdown",
   "metadata": {},
   "source": [
    "## Visualizar los términos en QuickGO: GO Annotatios<br>\n",
    "<img src=\"https://www.ebi.ac.uk/training/online/sites/ebi.ac.uk.training.online/files/resize/u13218/Screen%20Shot%202017-11-21%20at%2010.14.25-750x468.png\" width = 50%> <br>\n",
    "The QuickGO REST API provides access to key biological data from QuickGO and GOA.<br>\n",
    "https://www.ebi.ac.uk/QuickGO/api/index.html"
   ]
  },
  {
   "cell_type": "code",
   "execution_count": null,
   "metadata": {},
   "outputs": [],
   "source": [
    "lista_sup = re.sub(':', '%3A', '%2C'.join(list(pro.GO.head(20))))\n",
    "quickgo_url = 'https://www.ebi.ac.uk/QuickGO/services/ontology/go/terms/%7Bids%7D/chart?ids='\n",
    "Image.open(requests.get(quickgo_url+lista_sup, stream=True).raw)"
   ]
  },
  {
   "cell_type": "code",
   "execution_count": null,
   "metadata": {},
   "outputs": [],
   "source": []
  },
  {
   "cell_type": "markdown",
   "metadata": {},
   "source": [
    "# Visualización del grado de interacciones con redes (NetworkX)\n",
    "https://networkx.github.io/documentation/networkx-1.9/index.html"
   ]
  },
  {
   "cell_type": "markdown",
   "metadata": {},
   "source": [
    "* <font color=green>Argumentos para la función</font> <font color=red>**net_plot()**</font>\n",
    "* df = <**Data frame con tres columnas: ejemplo GO \\t Entry \\t Aspect \\t Term**>\n",
    "* label = <**Mostrar etiqueta: ejemplo 'label' o 'none'**>\n",
    "* diam_nodos = <**Ajustar el diámetro de los nodos: ejemplo 10**>\n",
    "* espe_edges = <**Ajustar el espesor de los vértices: ejemplo 0.2**>\n",
    "* inter = <**Grado de interacción: ejemplo nodos con más de 10 interacciones (proteínas o genes que comparten)**>\n",
    "* color_inter_min = <**Color de los vértices con menor interacción**>\n",
    "* color_inter_max = <**Color de los vértices con mayor interacción**>\n",
    "* edge_alpha_min = <**Nivel de transparencia en el color de los vértices de menor interacción**>\n",
    "* edge_alpha_max = <**Nivel de transparencia en el color de los vértices de mayor interacción**>\n",
    "* k_num = <**Distancia óptima entre los nodos (lo aplica al algoritmo de Fruchterman-Reingold)**><br>\n",
    "https://networkx.github.io/documentation/networkx-1.9/reference/generated/networkx.drawing.layout.spring_layout.html\n",
    "* color_nodo = <**Color de los nodos**>\n",
    "* node_alpha = <**Nivel de transparencia en el color de los nodos**><br><br>"
   ]
  },
  {
   "cell_type": "code",
   "execution_count": null,
   "metadata": {},
   "outputs": [],
   "source": [
    "import warnings\n",
    "warnings.filterwarnings(\"ignore\")\n",
    "import matplotlib.pyplot as plt"
   ]
  },
  {
   "cell_type": "code",
   "execution_count": null,
   "metadata": {},
   "outputs": [],
   "source": [
    "plt.subplots(figsize=(7,7))\n",
    "net_plot(df = pro1)"
   ]
  },
  {
   "cell_type": "markdown",
   "metadata": {},
   "source": [
    "### <font color=red>Ejemplo = Control de más parámetros</font>"
   ]
  },
  {
   "cell_type": "code",
   "execution_count": null,
   "metadata": {},
   "outputs": [],
   "source": [
    "plt.subplots(figsize=(12,12))\n",
    "\n",
    "net_plot(df = pro1,\n",
    "         label = 'label',\n",
    "         layout = 'Spring',\n",
    "         column = 2,\n",
    "         label_size = 10,\n",
    "         diam_nodos = 20,\n",
    "         espe_edges = 0.2,\n",
    "         inter = 50,\n",
    "         color_inter_min = 'darkgreen',\n",
    "         color_inter_max = 'blue',\n",
    "         edge_alpha_min = 0.3,\n",
    "         edge_alpha_max = 0.7,\n",
    "         k_num = 6,\n",
    "         color_nodo = 'red',\n",
    "         node_alpha = 0.7)"
   ]
  },
  {
   "cell_type": "code",
   "execution_count": null,
   "metadata": {
    "scrolled": true
   },
   "outputs": [],
   "source": [
    "pro1[['GO','Entry','Aspect','Term']].drop_duplicates().groupby(['GO','Term','Aspect'])\\\n",
    ".Entry.count().reset_index().sort_values(by ='Entry',ascending=False).reset_index(drop=True).head(10)"
   ]
  },
  {
   "cell_type": "code",
   "execution_count": null,
   "metadata": {},
   "outputs": [],
   "source": []
  },
  {
   "cell_type": "markdown",
   "metadata": {},
   "source": [
    "# Visualización del grado de interacciones con Heatmaps\n",
    "https://seaborn.pydata.org/generated/seaborn.heatmap.html"
   ]
  },
  {
   "cell_type": "markdown",
   "metadata": {},
   "source": [
    "* <font color=green>Argumentos para la función</font> <font color=red>**heatmap_plot()**</font>\n",
    "* df = <**Data frame con tres columnas: ejemplo GO\\tEntry\\tAspect\\tTerm\\tASPECT\\tShort_Term**>\n",
    "* size_plot = <**Tamaño del gráfico**>\n",
    "* label_x = <**GO terms o Terms como etiqueta**>\n",
    "* label_y = <**GO terms o Terms como etiqueta**>\n",
    "* xticks_size = <**Tamaño de etiqueta eje x**>\n",
    "* yticks_size = <**Tamaño de etiqueta eje y**>\n",
    "* ylabel_size = <**Tamaño de legenda**><br><br>"
   ]
  },
  {
   "cell_type": "code",
   "execution_count": null,
   "metadata": {
    "scrolled": false
   },
   "outputs": [],
   "source": [
    "plt.subplots(figsize=(10,10))\n",
    "heatmap_plot(df = pro1)"
   ]
  },
  {
   "cell_type": "code",
   "execution_count": null,
   "metadata": {},
   "outputs": [],
   "source": []
  },
  {
   "cell_type": "markdown",
   "metadata": {},
   "source": [
    "### <font color=red>Ejemplo = Control de más parámetros</font>"
   ]
  },
  {
   "cell_type": "code",
   "execution_count": null,
   "metadata": {
    "scrolled": false
   },
   "outputs": [],
   "source": [
    "plt.subplots(figsize=(10,10))\n",
    "# colors (https://matplotlib.org/examples/color/colormaps_reference.html)\n",
    "heatmap_plot(df = pro1, label_x = 'Term', label_y = 'Term',\n",
    "             xticks_size = 9, yticks_size = 9, ylabel_size = 10, colors='cividis',)"
   ]
  },
  {
   "cell_type": "markdown",
   "metadata": {},
   "source": [
    "# ----------------------------------------------------------------------------------------------------------"
   ]
  },
  {
   "cell_type": "markdown",
   "metadata": {},
   "source": [
    "<img src=\"https://raw.githubusercontent.com/eduardo1011/Bioinformatica2019/master/activity.png\" width = 100%>"
   ]
  },
  {
   "cell_type": "code",
   "execution_count": null,
   "metadata": {},
   "outputs": [],
   "source": []
  },
  {
   "cell_type": "markdown",
   "metadata": {},
   "source": [
    "# ----------------------------------------------------------------------------------------------------------"
   ]
  },
  {
   "cell_type": "markdown",
   "metadata": {},
   "source": [
    "## Molecular Function"
   ]
  },
  {
   "cell_type": "code",
   "execution_count": null,
   "metadata": {
    "scrolled": true
   },
   "outputs": [],
   "source": [
    "fun1 = GO_Slim[columnas].groupby(['Aspect']).get_group('F')\n",
    "funcion = DataFrame(fun1.groupby(['GO','Term', 'Short_Term']).Entry.count()).reset_index()\n",
    "fun = funcion.sort_values(by ='Entry',ascending=False).reset_index(drop=True)\n",
    "fun.head()"
   ]
  },
  {
   "cell_type": "code",
   "execution_count": null,
   "metadata": {},
   "outputs": [],
   "source": []
  },
  {
   "cell_type": "markdown",
   "metadata": {},
   "source": [
    "# ----------------------------------------------------------------------------------------------------------"
   ]
  },
  {
   "cell_type": "markdown",
   "metadata": {},
   "source": [
    "## Cellular Component"
   ]
  },
  {
   "cell_type": "code",
   "execution_count": null,
   "metadata": {
    "scrolled": true
   },
   "outputs": [],
   "source": [
    "com1 = GO_Slim[columnas].groupby(['Aspect']).get_group('C')\n",
    "componente = DataFrame(com1.groupby(['GO','Term', 'Short_Term']).Entry.count()).reset_index()\n",
    "com = componente.sort_values(by ='Entry',ascending=False).reset_index(drop=True)\n",
    "com.head()"
   ]
  },
  {
   "cell_type": "markdown",
   "metadata": {},
   "source": [
    "# ----------------------------------------------------------------------------------------------------------"
   ]
  },
  {
   "cell_type": "code",
   "execution_count": null,
   "metadata": {},
   "outputs": [],
   "source": []
  },
  {
   "cell_type": "markdown",
   "metadata": {},
   "source": [
    "# Múltiples gráficos"
   ]
  },
  {
   "cell_type": "code",
   "execution_count": null,
   "metadata": {},
   "outputs": [],
   "source": [
    "# Múltiples gráficos\n",
    "#https://matplotlib.org/users/dflt_style_changes.html\n",
    "#1f77b4\n",
    "#ff7f0e\n",
    "#2ca02c\n",
    "\n",
    "# funcion(df, column, positions, title, rows, size xlabel, size ylabel, size xtitle, size title, size bar values)\n",
    "\n",
    "barras(pro,1,241,'Biological Process',15,'tan',5, 5, 10, 15, 7)\n",
    "barras(fun,1,233,'Molecular Function',15,'tan',5, 5, 10, 15, 7)\n",
    "barras(com,1,234,'Cellular Component',15,'tan',5, 5, 10, 15, 7)\n",
    "pastel(categorias,0,236,'Categories',len(categorias),60,10,15)\n",
    "plt.subplots_adjust(top=0.92, bottom=-0.2, left=0, right=1, hspace=0.5,\n",
    "                    wspace=0)"
   ]
  },
  {
   "cell_type": "code",
   "execution_count": null,
   "metadata": {},
   "outputs": [],
   "source": []
  },
  {
   "cell_type": "markdown",
   "metadata": {},
   "source": [
    "# ----------------------------------------------------------------------------------------------------------"
   ]
  },
  {
   "cell_type": "code",
   "execution_count": 3,
   "metadata": {},
   "outputs": [
    {
     "data": {
      "text/plain": [
       "['.ipynb_checkpoints',\n",
       " '1_ANOTACION_2019.ipynb',\n",
       " '2_BLAST_ANOTACION_2019.ipynb',\n",
       " 'Automatic_Notebook.ipynb',\n",
       " '__pycache__']"
      ]
     },
     "execution_count": 3,
     "metadata": {},
     "output_type": "execute_result"
    }
   ],
   "source": [
    "os.listdir()"
   ]
  },
  {
   "cell_type": "code",
   "execution_count": 2,
   "metadata": {},
   "outputs": [],
   "source": [
    "import os"
   ]
  },
  {
   "cell_type": "code",
   "execution_count": null,
   "metadata": {},
   "outputs": [],
   "source": [
    "'1_ANOTACION_2019.ipynb', '2_BLAST_ANOTACION_2019.ipynb', 'Automatic_Notebook.ipynb'"
   ]
  }
 ],
 "metadata": {
  "kernelspec": {
   "display_name": "Python 3",
   "language": "python",
   "name": "python3"
  },
  "language_info": {
   "codemirror_mode": {
    "name": "ipython",
    "version": 3
   },
   "file_extension": ".py",
   "mimetype": "text/x-python",
   "name": "python",
   "nbconvert_exporter": "python",
   "pygments_lexer": "ipython3",
   "version": "3.6.7"
  }
 },
 "nbformat": 4,
 "nbformat_minor": 4
}
